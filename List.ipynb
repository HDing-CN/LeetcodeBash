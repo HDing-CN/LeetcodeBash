{
 "cells": [
  {
   "cell_type": "markdown",
   "metadata": {},
   "source": [
    "# 链表\n",
    "[合并两个有序链表](https://leetcode-cn.com/problems/merge-two-sorted-lists/)"
   ]
  },
  {
   "cell_type": "code",
   "execution_count": 4,
   "metadata": {
    "pycharm": {
     "name": "#%%\n"
    }
   },
   "outputs": [],
   "source": [
    "class Solution:\n",
    "    def mergeTwoLists(self, list1: Optional[ListNode], list2: Optional[ListNode]) -> Optional[ListNode]:\n",
    "        dummy = ListNode(0)\n",
    "        p = dummy\n",
    "        while list1 and list2:\n",
    "            if list1.val <= list2.val:\n",
    "                p.next = list1\n",
    "                list1 = list1.next\n",
    "            else:\n",
    "                p.next = list2\n",
    "                list2 = list2.next\n",
    "            p = p.next\n",
    "        if list1:\n",
    "            p.next = list1\n",
    "        if list2:\n",
    "            p.next = list2\n",
    "        return dummy.next"
   ]
  },
  {
   "cell_type": "markdown",
   "metadata": {},
   "source": [
    "[合并k个升序链表](https://leetcode-cn.com/problems/merge-k-sorted-lists/)\n",
    "\n",
    "重点看如何自定义Python对象的比较算法：https://www.pythonpool.com/python-__lt__/"
   ]
  },
  {
   "cell_type": "code",
   "execution_count": null,
   "metadata": {},
   "outputs": [],
   "source": [
    "def __lt__(self, other):\n",
    "    return self.val < other.val\n",
    "ListNode.__lt__ = __lt__\n",
    "\n",
    "from queue import PriorityQueue\n",
    "class Solution:\n",
    "    def mergeKLists(self, lists: List[Optional[ListNode]]) -> Optional[ListNode]:\n",
    "        dummy = ListNode(0)\n",
    "        p = dummy\n",
    "        pq = PriorityQueue()\n",
    "        for node in lists:\n",
    "            if node:\n",
    "                pq.put(node)\n",
    "        \n",
    "        while not pq.empty():\n",
    "            node = pq.get()\n",
    "            p.next = node\n",
    "            p = p.next\n",
    "            if node.next:\n",
    "                pq.put(node.next)\n",
    "\n",
    "        return dummy.next"
   ]
  },
  {
   "cell_type": "markdown",
   "metadata": {},
   "source": [
    "[环形链表](https://leetcode-cn.com/problems/linked-list-cycle/)\n",
    "\n",
    "双指针一快一慢，碰到的时候就说明有环"
   ]
  },
  {
   "cell_type": "code",
   "execution_count": null,
   "metadata": {},
   "outputs": [],
   "source": [
    "class Solution:\n",
    "    def hasCycle(self, head: Optional[ListNode]) -> bool:\n",
    "        dummy = ListNode(0)\n",
    "        dummy.next = head # <--- dummy节点与头结点相连\n",
    "        fast = slow = dummy\n",
    "        while fast and fast.next:\n",
    "            fast = fast.next.next\n",
    "            slow = slow.next\n",
    "            if fast == slow:\n",
    "                return True\n",
    "        return False"
   ]
  },
  {
   "cell_type": "markdown",
   "metadata": {},
   "source": [
    "[环形链表 II](https://leetcode-cn.com/problems/linked-list-cycle-ii/)\n",
    "\n",
    "数学题"
   ]
  },
  {
   "cell_type": "code",
   "execution_count": null,
   "metadata": {},
   "outputs": [],
   "source": []
  }
 ],
 "metadata": {
  "kernelspec": {
   "display_name": "Python 3 (ipykernel)",
   "language": "python",
   "name": "python3"
  },
  "language_info": {
   "codemirror_mode": {
    "name": "ipython",
    "version": 3
   },
   "file_extension": ".py",
   "mimetype": "text/x-python",
   "name": "python",
   "nbconvert_exporter": "python",
   "pygments_lexer": "ipython3",
   "version": "3.9.7"
  }
 },
 "nbformat": 4,
 "nbformat_minor": 1
}