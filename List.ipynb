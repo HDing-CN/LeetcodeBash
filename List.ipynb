{
 "cells": [
  {
   "cell_type": "markdown",
   "metadata": {},
   "source": [
    "# 链表\n",
    "[合并两个有序链表](https://leetcode-cn.com/problems/merge-two-sorted-lists/)"
   ]
  },
  {
   "cell_type": "code",
   "execution_count": null,
   "metadata": {
    "pycharm": {
     "name": "#%%\n"
    }
   },
   "outputs": [],
   "source": [
    "class Solution:\n",
    "    def mergeTwoLists(self, list1: Optional[ListNode], list2: Optional[ListNode]) -> Optional[ListNode]:\n",
    "        dummy = ListNode(0)\n",
    "        p = dummy\n",
    "        while list1 and list2:\n",
    "            if list1.val <= list2.val:\n",
    "                p.next = list1\n",
    "                list1 = list1.next\n",
    "            else:\n",
    "                p.next = list2\n",
    "                list2 = list2.next\n",
    "            p = p.next\n",
    "        if list1:\n",
    "            p.next = list1\n",
    "        if list2:\n",
    "            p.next = list2\n",
    "        return dummy.next"
   ]
  },
  {
   "cell_type": "markdown",
   "metadata": {},
   "source": [
    "[合并k个升序链表](https://leetcode-cn.com/problems/merge-k-sorted-lists/)\n",
    "\n",
    "重点看如何自定义Python对象的比较算法：https://www.pythonpool.com/python-__lt__/"
   ]
  },
  {
   "cell_type": "code",
   "execution_count": null,
   "metadata": {},
   "outputs": [],
   "source": [
    "def __lt__(self, other):\n",
    "    return self.val < other.val\n",
    "ListNode.__lt__ = __lt__\n",
    "\n",
    "from queue import PriorityQueue\n",
    "class Solution:\n",
    "    def mergeKLists(self, lists: List[Optional[ListNode]]) -> Optional[ListNode]:\n",
    "        dummy = ListNode(0)\n",
    "        p = dummy\n",
    "        pq = PriorityQueue()\n",
    "        for node in lists:\n",
    "            if node:\n",
    "                pq.put(node)\n",
    "        \n",
    "        while not pq.empty():\n",
    "            node = pq.get()\n",
    "            p.next = node\n",
    "            p = p.next\n",
    "            if node.next:\n",
    "                pq.put(node.next)\n",
    "\n",
    "        return dummy.next"
   ]
  },
  {
   "cell_type": "markdown",
   "metadata": {},
   "source": [
    "[环形链表](https://leetcode-cn.com/problems/linked-list-cycle/)\n",
    "\n",
    "双指针一快一慢，碰到的时候就说明有环"
   ]
  },
  {
   "cell_type": "code",
   "execution_count": null,
   "metadata": {},
   "outputs": [],
   "source": [
    "class Solution:\n",
    "    def hasCycle(self, head: Optional[ListNode]) -> bool:\n",
    "        dummy = ListNode(0)\n",
    "        dummy.next = head # <--- dummy节点与头结点相连\n",
    "        fast = slow = dummy\n",
    "        while fast and fast.next:\n",
    "            fast = fast.next.next\n",
    "            slow = slow.next\n",
    "            if fast == slow:\n",
    "                return True\n",
    "        return False"
   ]
  },
  {
   "cell_type": "markdown",
   "metadata": {},
   "source": [
    "[环形链表 II](https://leetcode-cn.com/problems/linked-list-cycle-ii/)\n",
    "\n",
    "数学题，假定链表中的圆环之前的部分共包含a个segment，圆环中包含b个segment，同样使用快慢指针walk through这个链表，\n",
    "1. 因为存在圆环，所以两个指针必定相遇\n",
    "2. 因为快指针速度是慢指针的两倍，所以快指针走过的segment必定是慢指针的两倍\n",
    "设相遇的点处于距离圆环起点c个segment的地方，相遇时快指针已经在圆环中走了M圈，慢指针已经在圆环中走了N圈，M、N均为整数。\n",
    "可以得到\n",
    "a + M * b + b - c = 2 * (a + N * b + b - c) = 2 * a + 2 * N * b + 2 * b - 2 * c\n",
    "(M - 2 * N - 1) * b + c = a\n",
    "所以可以得出，相遇点距离圆环起点的距离 + 整数倍的圆环长度 = 链表起点到圆环起点的长度\n",
    "所以使用两个指针，p1从链表起点p2从圆环中的相遇点以相同速度出发，当p1走过a个segment到达圆环起点时，p2刚好走过c + 整数倍 * b个segment也到达圆环起点\n",
    "返回相遇点即为问题答案"
   ]
  },
  {
   "cell_type": "code",
   "execution_count": null,
   "metadata": {},
   "outputs": [],
   "source": [
    "class Solution:\n",
    "    def detectCycle(self, head: ListNode) -> ListNode:\n",
    "        p1 = p2 = head\n",
    "        while p1 and p1.next:\n",
    "            p1 = p1.next.next\n",
    "            p2 = p2.next\n",
    "            if p1 == p2:\n",
    "                p2 = head\n",
    "                while p1 != p2:\n",
    "                    p1 = p1.next\n",
    "                    p2 = p2.next\n",
    "                return p1\n",
    "        return None"
   ]
  },
  {
   "cell_type": "markdown",
   "metadata": {},
   "source": [
    "[链表的中间节点](https://leetcode-cn.com/problems/middle-of-the-linked-list/)"
   ]
  },
  {
   "cell_type": "code",
   "execution_count": null,
   "metadata": {},
   "outputs": [],
   "source": [
    "class Solution:\n",
    "    def middleNode(self, head: ListNode) -> ListNode:\n",
    "        slow = fast = head\n",
    "        while fast and fast.next:\n",
    "            fast = fast.next.next\n",
    "            slow = slow.next\n",
    "        return slow"
   ]
  },
  {
   "cell_type": "markdown",
   "metadata": {},
   "source": [
    "[删除链表的倒数第N个节点](https://leetcode-cn.com/problems/remove-nth-node-from-end-of-list/)"
   ]
  },
  {
   "cell_type": "code",
   "execution_count": null,
   "metadata": {},
   "outputs": [],
   "source": [
    "class Solution:\n",
    "    def removeNthFromEnd(self, head: ListNode, n: int) -> ListNode:\n",
    "        dummy = ListNode(0)\n",
    "        dummy.next = head\n",
    "        p1 = dummy\n",
    "        for i in range(n):\n",
    "            p1 = p1.next\n",
    "        p2 = dummy\n",
    "        while p1.next:\n",
    "            p1 = p1.next\n",
    "            p2 = p2.next\n",
    "        p2.next = p2.next.next\n",
    "        return dummy.next"
   ]
  },
  {
   "cell_type": "markdown",
   "metadata": {},
   "source": [
    "[相交链表](https://leetcode-cn.com/problems/intersection-of-two-linked-lists/)\n",
    "\n",
    "1. 每次循环开始的时候先判断，然后再走\n",
    "2. 允许指针为空，从而在转移链表且没有交点的情况下能够跳出循环，因为最终两个指针同时为空，即p1 == p2"
   ]
  },
  {
   "cell_type": "code",
   "execution_count": null,
   "metadata": {},
   "outputs": [],
   "source": [
    "class Solution:\n",
    "    def getIntersectionNode(self, headA: ListNode, headB: ListNode) -> ListNode:\n",
    "        p1 = headA\n",
    "        p2 = headB\n",
    "        while p1 != p2: # <--- p1 != p2，空指针的情况下自动跳出\n",
    "            if not p1:   \n",
    "                p1 = headB\n",
    "            if not p2:\n",
    "                p2 = headA\n",
    "            if p1 == p2:\n",
    "                return p1\n",
    "            \n",
    "            p1 = p1.next\n",
    "            p2 = p2.next"
   ]
  }
 ],
 "metadata": {
  "kernelspec": {
   "display_name": "Python 3 (ipykernel)",
   "language": "python",
   "name": "python3"
  },
  "language_info": {
   "codemirror_mode": {
    "name": "ipython",
    "version": 3
   },
   "file_extension": ".py",
   "mimetype": "text/x-python",
   "name": "python",
   "nbconvert_exporter": "python",
   "pygments_lexer": "ipython3",
   "version": "3.9.7"
  }
 },
 "nbformat": 4,
 "nbformat_minor": 1
}